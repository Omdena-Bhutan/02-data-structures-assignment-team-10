{
  "nbformat": 4,
  "nbformat_minor": 0,
  "metadata": {
    "colab": {
      "provenance": [],
      "include_colab_link": true
    },
    "kernelspec": {
      "name": "python3",
      "display_name": "Python 3"
    },
    "language_info": {
      "name": "python"
    }
  },
  "cells": [
    {
      "cell_type": "markdown",
      "metadata": {
        "id": "view-in-github",
        "colab_type": "text"
      },
      "source": [
        "<a href=\"https://colab.research.google.com/github/Omdena-Bhutan/02-data-structures-assignment-team-10/blob/main/01_Data_Structures.ipynb\" target=\"_parent\"><img src=\"https://colab.research.google.com/assets/colab-badge.svg\" alt=\"Open In Colab\"/></a>"
      ]
    },
    {
      "cell_type": "markdown",
      "source": [
        "# **Python Data Structures and Data Types: A Project-Based Assignment**\n",
        "\n",
        "# **Project Title: Fantasy Quest Inventory Management System**\n",
        "Objective\n",
        "\n",
        "The goal of this project is to apply your knowledge of fundamental Python data types and data structures to build a simple but functional \"inventory management system\" for a fantasy role-playing game character. This project will help you understand when and how to use strings, integers, floats, booleans, lists, tuples, dictionaries, and sets in a practical context.\n",
        "\n",
        "Project Description\n",
        "\n",
        "You have been tasked with creating a system to manage a character named \"Alistair\" and his adventuring gear. Your final program will simulate a simplified character sheet, inventory, and quest log.\n",
        "\n",
        "Your program should be well-commented and organized, with a clear flow."
      ],
      "metadata": {
        "id": "fZVZ_IDfKwBz"
      }
    },
    {
      "cell_type": "code",
      "source": [
        "# Part 1: Character Profile (Using Dictionaries and Basic Types)\n",
        "\n",
        "#  Dictionary in Python: {key: value}\n",
        "# - Stores data in key-value pairs\n",
        "# - Keys must be unique\n",
        "# - Values can be of any data type\n",
        "# - Good for storing structured data like a profile\n",
        "\n",
        "character_profile = {\n",
        "    'name': \"Alistair the Brave\",   # string: sequence of characters\n",
        "    'level': 1,                     # integer: whole number\n",
        "    'health': 100,                  # integer\n",
        "    'mana': 50,                     # integer\n",
        "    'gold': 50.75,                  # float: number with decimal\n",
        "    'is_alive': True                # boolean: True/False value\n",
        "}\n",
        "\n",
        "# Print character's name and level using f-string formatting\n",
        "print(f\"Character: {character_profile['name']},  Level: {character_profile['level']}\")\n",
        "\n",
        "# Update health (demonstrating mutability of dictionary)\n",
        "character_profile['health'] = 85\n",
        "\n",
        "# Add a new key-value pair for experience points\n",
        "character_profile['experience'] = 0\n",
        "\n",
        "# Print the final profile dictionary\n",
        "print(\"\\n--- Character Profile ---\")\n",
        "print(character_profile)"
      ],
      "metadata": {
        "colab": {
          "base_uri": "https://localhost:8080/"
        },
        "id": "bS1sGJEiKobx",
        "outputId": "47be4b00-3bb3-4fbf-ca68-b0f21eed314c"
      },
      "execution_count": null,
      "outputs": [
        {
          "output_type": "stream",
          "name": "stdout",
          "text": [
            "Character: Alistair the Brave,  Level: 1\n",
            "\n",
            "--- Character Profile ---\n",
            "{'name': 'Alistair the Brave', 'level': 1, 'health': 85, 'mana': 50, 'gold': 50.75, 'is_alive': True, 'experience': 0}\n"
          ]
        }
      ]
    },
    {
      "cell_type": "code",
      "source": [
        "# Part 2: Inventory System (Using List)\n",
        "\n",
        "# List in Python: [item1, item2, ...]\n",
        "# - Ordered collection (items maintain position)\n",
        "# - Mutable (we can add/remove/change items)\n",
        "# - Allows duplicates\n",
        "# - Best for inventory systems\n",
        "\n",
        "inventory = ['sword', 'shield', 'health potion']  # initial items\n",
        "\n",
        "# Add a new item using append()\n",
        "inventory.append('mana potion')\n",
        "\n",
        "# Remove an item using remove()\n",
        "inventory.remove('shield')\n",
        "\n",
        "# Print all items using a for loop\n",
        "print(\"\\n--- Inventory ---\")\n",
        "for item in inventory:\n",
        "    print(f\"- {item}\")"
      ],
      "metadata": {
        "colab": {
          "base_uri": "https://localhost:8080/"
        },
        "id": "NsUoqa9NMfkW",
        "outputId": "d9d48bcd-f327-4dce-d5d2-47dbc9ffaff1"
      },
      "execution_count": null,
      "outputs": [
        {
          "output_type": "stream",
          "name": "stdout",
          "text": [
            "\n",
            "--- Inventory ---\n",
            "- sword\n",
            "- health potion\n",
            "- mana potion\n"
          ]
        }
      ]
    },
    {
      "cell_type": "code",
      "source": [
        "# Part 3: Character Stats (Using Tuple)\n",
        "\n",
        "# Tuple in Python: (value1, value2, ...)\n",
        "# - Ordered collection\n",
        "# - Immutable (cannot be changed after creation)\n",
        "# - Good for data that should stay constant\n",
        "\n",
        "base_stats = (10, 8, 12)  # (strength, dexterity, intelligence)\n",
        "\n",
        "#  why tuple is used\n",
        "print(\"\\n--- Base Stats ---\")\n",
        "print(\"Tuples are a good choice for base stats because they are immutable (cannot be changed).\")\n",
        "\n",
        "# Access intelligence value (index 2)\n",
        "print(f\"Intelligence: {base_stats[2]}\")\n",
        "\n",
        "# Challenge: Tuples cannot be modified (this will cause an error if uncommented)\n",
        "#base_stats[0] = 15  # ERROR: 'tuple' object does not support item assignment"
      ],
      "metadata": {
        "colab": {
          "base_uri": "https://localhost:8080/"
        },
        "id": "AzQyCMh2M3iu",
        "outputId": "1fe73d3b-614f-4ba4-faea-12dc5cae7ee2"
      },
      "execution_count": null,
      "outputs": [
        {
          "output_type": "stream",
          "name": "stdout",
          "text": [
            "\n",
            "--- Base Stats ---\n",
            "Tuples are a good choice for base stats because they are immutable (cannot be changed).\n",
            "Intelligence: 12\n"
          ]
        }
      ]
    },
    {
      "cell_type": "code",
      "source": [
        "# Part 4: Quest Log (Using Set)\n",
        "\n",
        "# Set in Python: {item1, item2, ...}\n",
        "# - Unordered collection (no fixed position)\n",
        "# - No duplicates allowed\n",
        "# - Good for tracking unique items like quests\n",
        "\n",
        "quest_log = {'Defeat the Goblin King', 'Find the Lost Amulet'}\n",
        "\n",
        "# Add new quest using add()\n",
        "quest_log.add('Deliver the Old Scroll')\n",
        "\n",
        "# Add duplicate quest (it won’t be added twice)\n",
        "quest_log.add('Defeat the Goblin King')\n",
        "\n",
        "# Remove a completed quest\n",
        "quest_log.remove('Find the Lost Amulet')\n",
        "\n",
        "# Print the final quest log\n",
        "print(\"\\n--- Quest Log ---\")\n",
        "print(quest_log)\n"
      ],
      "metadata": {
        "colab": {
          "base_uri": "https://localhost:8080/"
        },
        "id": "Z3wpDg-ENG3K",
        "outputId": "b10a472e-3366-4706-c943-5606fbf12157"
      },
      "execution_count": null,
      "outputs": [
        {
          "output_type": "stream",
          "name": "stdout",
          "text": [
            "\n",
            "--- Quest Log ---\n",
            "{'Deliver the Old Scroll', 'Defeat the Goblin King'}\n"
          ]
        }
      ]
    },
    {
      "cell_type": "code",
      "source": [
        "# Part 5: Putting it all together (Nested Dictionary)\n",
        "\n",
        "# We combine all data into one dictionary called character_sheet.\n",
        "# This shows how different data structures can work together.\n",
        "\n",
        "character_sheet = {\n",
        "    'profile': character_profile,   # dictionary\n",
        "    'inventory': inventory,         # list\n",
        "    'stats': base_stats,            # tuple\n",
        "    'quests': quest_log             # set\n",
        "}\n",
        "\n",
        "# Print the final character sheet\n",
        "print(\"\\n=== Character Sheet ===\")\n",
        "print(character_sheet)"
      ],
      "metadata": {
        "colab": {
          "base_uri": "https://localhost:8080/"
        },
        "id": "0jCidV01NejQ",
        "outputId": "22786eaa-9bf0-4ade-a98c-4723867ef953"
      },
      "execution_count": null,
      "outputs": [
        {
          "output_type": "stream",
          "name": "stdout",
          "text": [
            "\n",
            "=== Character Sheet ===\n",
            "{'profile': {'name': 'Alistair the Brave', 'level': 1, 'health': 85, 'mana': 50, 'gold': 50.75, 'is_alive': True, 'experience': 0}, 'inventory': ['sword', 'health potion', 'mana potion'], 'stats': (10, 8, 12), 'quests': {'Deliver the Old Scroll', 'Defeat the Goblin King'}}\n"
          ]
        }
      ]
    },
    {
      "cell_type": "code",
      "source": [],
      "metadata": {
        "id": "BHxUhfrPNruc"
      },
      "execution_count": null,
      "outputs": []
    }
  ]
}